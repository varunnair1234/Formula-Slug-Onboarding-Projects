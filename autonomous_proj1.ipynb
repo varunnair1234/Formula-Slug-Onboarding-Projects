{
  "cells": [
    {
      "cell_type": "code",
      "source": [
        "#PART A\n",
        "import torch\n",
        "scalar = torch.tensor(5)\n",
        "print(scalar)\n",
        "\n",
        "vector = torch.tensor([1,2,3])\n",
        "print(vector)\n",
        "\n",
        "matrix = torch.tensor([[1,2,3],[4,5,6]])\n",
        "print(matrix)\n",
        "\n",
        "tensor_3d = torch.tensor([[[1,2],[3,4]], [[5,6], [7,8]]])\n",
        "print(tensor_3d)\n",
        "\n"
      ],
      "metadata": {
        "colab": {
          "base_uri": "https://localhost:8080/"
        },
        "id": "lIV2SH7RuIiH",
        "outputId": "535c3318-7bec-4eac-cc4e-8aaa386354c7"
      },
      "execution_count": 2,
      "outputs": [
        {
          "output_type": "stream",
          "name": "stdout",
          "text": [
            "tensor(5)\n",
            "tensor([1, 2, 3])\n",
            "tensor([[1, 2, 3],\n",
            "        [4, 5, 6]])\n",
            "tensor([[[1, 2],\n",
            "         [3, 4]],\n",
            "\n",
            "        [[5, 6],\n",
            "         [7, 8]]])\n"
          ]
        }
      ]
    },
    {
      "cell_type": "code",
      "source": [
        "#PART B\n",
        "A = torch.tensor([[1, 2], [3, 4]])\n",
        "B = torch.tensor([[2, 4], [6, 8]])\n",
        "\n",
        "add = A + B\n",
        "print(add)\n",
        "\n",
        "sub = A - B\n",
        "print(sub)\n",
        "\n",
        "mul = A * B\n",
        "print(mul)\n",
        "\n",
        "div = A / B\n",
        "print(div)\n"
      ],
      "metadata": {
        "colab": {
          "base_uri": "https://localhost:8080/"
        },
        "id": "zGuPliL70Kgv",
        "outputId": "6abc34d9-67a4-43f6-b008-0e8e60d1f999"
      },
      "execution_count": 3,
      "outputs": [
        {
          "output_type": "stream",
          "name": "stdout",
          "text": [
            "tensor([[ 3,  6],\n",
            "        [ 9, 12]])\n",
            "tensor([[-1, -2],\n",
            "        [-3, -4]])\n",
            "tensor([[ 2,  8],\n",
            "        [18, 32]])\n",
            "tensor([[0.5000, 0.5000],\n",
            "        [0.5000, 0.5000]])\n"
          ]
        }
      ]
    },
    {
      "cell_type": "code",
      "source": [
        "#PART C\n",
        "x = torch.randn(2, 1, 3, 1, 4)\n",
        "\n",
        "squeezed = torch.squeeze(x)\n",
        "print(squeezed)\n",
        "\n",
        "unsqueezed = torch.unsqueeze(x, 0)\n",
        "print(unsqueezed)"
      ],
      "metadata": {
        "colab": {
          "base_uri": "https://localhost:8080/"
        },
        "id": "ji-K0WvD0tLZ",
        "outputId": "d7cdc033-cae8-4b32-9e6c-e5a1422291ce"
      },
      "execution_count": 5,
      "outputs": [
        {
          "output_type": "stream",
          "name": "stdout",
          "text": [
            "tensor([[[-1.7308,  0.4646, -0.9963,  1.6167],\n",
            "         [ 1.5086, -1.6008,  1.2966, -1.0962],\n",
            "         [ 0.4208, -1.3696,  0.0398, -0.7955]],\n",
            "\n",
            "        [[-1.1885,  0.0235,  0.0132, -0.4092],\n",
            "         [-0.3828, -0.2557,  0.8587,  1.4567],\n",
            "         [ 2.0483, -1.0881, -0.6097, -1.0340]]])\n",
            "tensor([[[[[[-1.7308,  0.4646, -0.9963,  1.6167]],\n",
            "\n",
            "           [[ 1.5086, -1.6008,  1.2966, -1.0962]],\n",
            "\n",
            "           [[ 0.4208, -1.3696,  0.0398, -0.7955]]]],\n",
            "\n",
            "\n",
            "\n",
            "         [[[[-1.1885,  0.0235,  0.0132, -0.4092]],\n",
            "\n",
            "           [[-0.3828, -0.2557,  0.8587,  1.4567]],\n",
            "\n",
            "           [[ 2.0483, -1.0881, -0.6097, -1.0340]]]]]])\n"
          ]
        }
      ]
    }
  ],
  "metadata": {
    "accelerator": "GPU",
    "colab": {
      "gpuType": "T4",
      "provenance": []
    },
    "kernelspec": {
      "display_name": "Python 3",
      "name": "python3"
    },
    "language_info": {
      "name": "python"
    }
  },
  "nbformat": 4,
  "nbformat_minor": 0
}