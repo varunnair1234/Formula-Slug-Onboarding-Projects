{
  "nbformat": 4,
  "nbformat_minor": 0,
  "metadata": {
    "colab": {
      "provenance": []
    },
    "kernelspec": {
      "name": "python3",
      "display_name": "Python 3"
    },
    "language_info": {
      "name": "python"
    }
  },
  "cells": [
    {
      "cell_type": "code",
      "source": [
        "import torch\n",
        "import torch.nn as nn\n",
        "import torch.optim as optim\n",
        "import random"
      ],
      "metadata": {
        "id": "uxMAfIug-6Nd"
      },
      "execution_count": 4,
      "outputs": []
    },
    {
      "cell_type": "code",
      "execution_count": 7,
      "metadata": {
        "colab": {
          "base_uri": "https://localhost:8080/"
        },
        "id": "-f_dSBCJ8D3w",
        "outputId": "eea11fb6-5516-40cf-8505-6e6322d1337d"
      },
      "outputs": [
        {
          "output_type": "stream",
          "name": "stdout",
          "text": [
            "2.8.0+cu126\n",
            "Dataset\n"
          ]
        },
        {
          "output_type": "stream",
          "name": "stderr",
          "text": [
            "/usr/local/lib/python3.12/dist-packages/torch/nn/modules/loss.py:129: UserWarning: Using a target size (torch.Size([1000])) that is different to the input size (torch.Size([1000, 1])). This will likely lead to incorrect results due to broadcasting. Please ensure they have the same size.\n",
            "  return F.l1_loss(input, target, reduction=self.reduction)\n"
          ]
        },
        {
          "output_type": "stream",
          "name": "stdout",
          "text": [
            "Epoch 100/1000, Loss: 40.7362\n",
            "Epoch 200/1000, Loss: 35.7853\n",
            "Epoch 300/1000, Loss: 32.1216\n",
            "Epoch 400/1000, Loss: 31.9107\n",
            "Epoch 500/1000, Loss: 31.9089\n",
            "Epoch 600/1000, Loss: 31.9125\n",
            "Epoch 700/1000, Loss: 31.9108\n",
            "Epoch 800/1000, Loss: 31.9932\n",
            "Epoch 900/1000, Loss: 31.9143\n",
            "Epoch 1000/1000, Loss: 31.9087\n",
            "Model trained\n",
            "Predictions: \n",
            "Input: [15.0, 27.0], Predicted Output: 100.88\n",
            "Input: [100.0, 50.0], Predicted Output: 101.47\n",
            "Input: [7.0, 3.0], Predicted Output: 100.91\n"
          ]
        }
      ],
      "source": [
        "def part1():\n",
        "    global x, y\n",
        "    data = []\n",
        "    for i in range(1000):\n",
        "      a = random.randint(0, 100)\n",
        "      b = random.randint(0, 100)\n",
        "      data.append(([a, b], a + b))\n",
        "    x = torch.tensor([x for x, y in data], dtype=torch.float32)\n",
        "    y = torch.tensor([y for x, y in data], dtype=torch.float32).reshape(-1, 1)\n",
        "    print(\"Dataset\")\n",
        "def part2():\n",
        "    global model\n",
        "    class addingmodel(nn.Module):\n",
        "      def __init__(self):\n",
        "        super().__init__()\n",
        "        self.model = nn.Sequential(\n",
        "          nn.Linear(2, 16),\n",
        "          nn.ReLU(),\n",
        "          nn.Linear(16, 16),\n",
        "          nn.ReLU(),\n",
        "          nn.Linear(16, 1)\n",
        "        )\n",
        "      def forward(self, x):\n",
        "        return self.model(x)\n",
        "    model = addingmodel()\n",
        "    loss_fn = nn.L1Loss()\n",
        "    optimizer = optim.Adam(model.parameters(), lr = 0.01)\n",
        "\n",
        "    for epoch in range(1000):\n",
        "      optimizer.zero_grad()\n",
        "      outputs = model(x)\n",
        "      loss = loss_fn(outputs, y)\n",
        "      loss.backward()\n",
        "      optimizer.step()\n",
        "      if (epoch + 1) % 100 == 0:\n",
        "        print(f\"Epoch {epoch + 1}/1000, Loss: {loss.item():.4f}\")\n",
        "    print(\"Model trained\")\n",
        "\n",
        "def part3():\n",
        "    test_inputs = torch.tensor([[15, 27], [100, 50], [7, 3]], dtype = torch.float32)\n",
        "    predictions = model(test_inputs)\n",
        "    print(\"Predictions: \")\n",
        "    for inp, pred in zip(test_inputs, predictions):\n",
        "      print(f\"Input: {inp.tolist()}, Predicted Output: {pred.item():.2f}\")\n",
        "\n",
        "if __name__ == \"__main__\":\n",
        "    print(torch.__version__)\n",
        "    part1()\n",
        "    part2()\n",
        "    part3()"
      ]
    }
  ]
}