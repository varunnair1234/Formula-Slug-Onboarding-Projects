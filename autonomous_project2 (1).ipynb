{
  "nbformat": 4,
  "nbformat_minor": 0,
  "metadata": {
    "colab": {
      "provenance": []
    },
    "kernelspec": {
      "name": "python3",
      "display_name": "Python 3"
    },
    "language_info": {
      "name": "python"
    }
  },
  "cells": [
    {
      "cell_type": "code",
      "source": [
        "import torch\n",
        "import torch.nn as nn\n",
        "import torch.optim as optim\n",
        "import random"
      ],
      "metadata": {
        "id": "uxMAfIug-6Nd"
      },
      "execution_count": 1,
      "outputs": []
    },
    {
      "cell_type": "code",
      "execution_count": 4,
      "metadata": {
        "colab": {
          "base_uri": "https://localhost:8080/"
        },
        "id": "-f_dSBCJ8D3w",
        "outputId": "7fda9e2a-38b5-4871-d20b-9ebd9534d37f"
      },
      "outputs": [
        {
          "output_type": "stream",
          "name": "stdout",
          "text": [
            "2.8.0+cu126\n",
            "Epoch 500/2000, Loss: 0.3067\n",
            "Epoch 1000/2000, Loss: 0.2955\n",
            "Epoch 1500/2000, Loss: 0.2937\n",
            "Epoch 2000/2000, Loss: 0.2931\n",
            "\n",
            "Predictions:\n",
            "[0, 0, 0] -> dark (0.00)\n",
            "[255, 255, 255] -> light (0.93)\n",
            "[100, 50, 200] -> light (0.83)\n",
            "[200, 200, 50] -> light (0.89)\n"
          ]
        }
      ],
      "source": [
        "def part1():\n",
        "    global X, y\n",
        "    data = [\n",
        "        ([0, 0, 0], 0),\n",
        "        ([255, 255, 255], 1),\n",
        "        ([255, 0, 0], 1),\n",
        "        ([0, 255, 0], 1),\n",
        "        ([0, 0, 255], 1),\n",
        "        ([128, 128, 128], 0),\n",
        "        ([200, 200, 200], 1),\n",
        "        ([50, 50, 50], 0),\n",
        "        ([255, 255, 0], 1),\n",
        "        ([0, 255, 255], 1),\n",
        "    ]\n",
        "    X = torch.tensor([x for x, _ in data], dtype=torch.float32) / 255.0\n",
        "    y = torch.tensor([label for _, label in data], dtype=torch.float32).unsqueeze(1)\n",
        "\n",
        "\n",
        "def part2():\n",
        "    global model\n",
        "    class ColorClassifier(nn.Module):\n",
        "        def __init__(self):\n",
        "            super().__init__()\n",
        "            self.model = nn.Sequential(\n",
        "                nn.Linear(3, 8),\n",
        "                nn.ReLU(),\n",
        "                nn.Linear(8, 1),\n",
        "                nn.Sigmoid()\n",
        "            )\n",
        "        def forward(self, x):\n",
        "            return self.model(x)\n",
        "\n",
        "    model = ColorClassifier()\n",
        "    loss_fn = nn.BCELoss()\n",
        "    optimizer = optim.Adam(model.parameters(), lr=0.01)\n",
        "\n",
        "    # Train\n",
        "    for epoch in range(2000):\n",
        "        optimizer.zero_grad()\n",
        "        outputs = model(X)\n",
        "        loss = loss_fn(outputs, y)\n",
        "        loss.backward()\n",
        "        optimizer.step()\n",
        "        if (epoch + 1) % 500 == 0:\n",
        "            print(f\"Epoch {epoch+1}/2000, Loss: {loss.item():.4f}\")\n",
        "\n",
        "def part3():\n",
        "    test_colors = torch.tensor([\n",
        "        [0, 0, 0],\n",
        "        [255, 255, 255],\n",
        "        [100, 50, 200],\n",
        "        [200, 200, 50],\n",
        "    ], dtype=torch.float32) / 255.0\n",
        "\n",
        "    predictions = model(test_colors)\n",
        "    print(\"\\nPredictions:\")\n",
        "    for color, pred in zip(test_colors, predictions):\n",
        "        label = \"light\" if pred.item() > 0.5 else \"dark\"\n",
        "        print(f\"{(color*255).int().tolist()} -> {label} ({pred.item():.2f})\")\n",
        "\n",
        "if __name__ == \"__main__\":\n",
        "    print(torch.__version__)\n",
        "    part1()\n",
        "    part2()\n",
        "    part3()"
      ]
    }
  ]
}